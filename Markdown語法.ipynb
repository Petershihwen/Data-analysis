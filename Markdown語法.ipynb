{
 "cells": [
  {
   "cell_type": "code",
   "execution_count": null,
   "metadata": {
    "collapsed": true
   },
   "outputs": [],
   "source": [
    "標題\n",
    "\n",
    "https://www.zybuluo.com/mdeditor\n",
    "# h1\n",
    "## h2\n",
    "### h3\n",
    "#### h4\n",
    "##### h5\n",
    "###### h6"
   ]
  },
  {
   "cell_type": "code",
   "execution_count": null,
   "metadata": {
    "collapsed": true
   },
   "outputs": [],
   "source": [
    "分隔線\n",
    "\n",
    "---"
   ]
  },
  {
   "cell_type": "code",
   "execution_count": null,
   "metadata": {
    "collapsed": true
   },
   "outputs": [],
   "source": [
    "超連結\n",
    "[我的最愛](http://www.izhangbo.cn)"
   ]
  },
  {
   "cell_type": "code",
   "execution_count": null,
   "metadata": {
    "collapsed": true
   },
   "outputs": [],
   "source": [
    "顏色\n",
    "<span style = 'color:red'>*Peter is good*</span>"
   ]
  },
  {
   "cell_type": "code",
   "execution_count": null,
   "metadata": {
    "collapsed": true
   },
   "outputs": [],
   "source": [
    "美化文字\n",
    "_Italic_\n",
    "__Bold wording__\n",
    "$Python Master$\n",
    "$$Python Master$$\n"
   ]
  },
  {
   "cell_type": "code",
   "execution_count": null,
   "metadata": {
    "collapsed": true
   },
   "outputs": [],
   "source": [
    "强调：\n",
    "*斜体强调*\n",
    "**粗体强调**"
   ]
  },
  {
   "cell_type": "code",
   "execution_count": null,
   "metadata": {
    "collapsed": true
   },
   "outputs": [],
   "source": [
    "表格\n",
    "Item     | Value\n",
    "-------- | ---\n",
    "Computer | $1600\n",
    "Phone    | $12\n",
    "Pipe     | $1"
   ]
  },
  {
   "cell_type": "code",
   "execution_count": null,
   "metadata": {
    "collapsed": true
   },
   "outputs": [],
   "source": [
    "列表：\n",
    "\n",
    "- 列表1\n",
    "- 列表2\n",
    "- 列表3"
   ]
  },
  {
   "cell_type": "code",
   "execution_count": null,
   "metadata": {
    "collapsed": true
   },
   "outputs": [],
   "source": [
    "有序列表：使用 数字 加一个英文句点\n",
    "\n",
    "1. 有序列表\n",
    "2. 有序列表\n",
    "3. 有序列表\n",
    "4. 有序列表\n",
    "5. 有序列表"
   ]
  },
  {
   "cell_type": "code",
   "execution_count": null,
   "metadata": {
    "collapsed": true
   },
   "outputs": [],
   "source": [
    "引用文字\n",
    ">给引用的文本开始位置都加一个 '>'，\n",
    ">便可组成一个块引用。在块引用中，可以结合\n",
    ">其他markdown元素一块使用，比如列表。\n",
    ">**强调**\n",
    ">- 块引用里使用列表，需要和上面的内容隔开一个空行\n",
    ">- 记得加空格哦。"
   ]
  },
  {
   "cell_type": "code",
   "execution_count": null,
   "metadata": {
    "collapsed": true
   },
   "outputs": [],
   "source": [
    "![cmd-markdown-logo](https://www.zybuluo.com/static/img/logo.png)"
   ]
  },
  {
   "cell_type": "code",
   "execution_count": null,
   "metadata": {
    "collapsed": true
   },
   "outputs": [],
   "source": [
    "- [ ] 支持以 PDF 格式导出文稿\n",
    "- [ ] 改进 Cmd 渲染算法，使用局部渲染技术提高渲染效率\n",
    "- [x] 新增 Todo 列表功能\n",
    "- [x] 修复 LaTex 公式渲染问题\n",
    "- [x] 新增 LaTex 公式编号功能\n"
   ]
  },
  {
   "cell_type": "code",
   "execution_count": null,
   "metadata": {
    "collapsed": true
   },
   "outputs": [],
   "source": [
    "註解\n",
    "[^LaTeX]"
   ]
  },
  {
   "cell_type": "code",
   "execution_count": null,
   "metadata": {
    "collapsed": true
   },
   "outputs": [],
   "source": [
    "Python Code\n",
    "```python\n",
    "@requires_authorization\n",
    "class SomeClass:\n",
    "    pass\n",
    "\n",
    "if __name__ == '__main__':\n",
    "    # A comment\n",
    "    print 'hello world'\n",
    "```"
   ]
  }
 ],
 "metadata": {
  "celltoolbar": "Raw Cell Format",
  "kernelspec": {
   "display_name": "Python 3",
   "language": "python",
   "name": "python3"
  },
  "language_info": {
   "codemirror_mode": {
    "name": "ipython",
    "version": 3
   },
   "file_extension": ".py",
   "mimetype": "text/x-python",
   "name": "python",
   "nbconvert_exporter": "python",
   "pygments_lexer": "ipython3",
   "version": "3.6.1"
  }
 },
 "nbformat": 4,
 "nbformat_minor": 2
}
