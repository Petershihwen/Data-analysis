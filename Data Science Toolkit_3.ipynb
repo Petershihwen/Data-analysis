{
 "cells": [
  {
   "cell_type": "markdown",
   "metadata": {},
   "source": [
    "# <Span style = 'color:green'>*Loading Data*</Span>"
   ]
  },
  {
   "cell_type": "code",
   "execution_count": null,
   "metadata": {
    "collapsed": true
   },
   "outputs": [],
   "source": [
    "# general\n",
    "data = pd.read_csv(fname.csv)\n",
    "data = pd.read_excel(fname.xlsx, sheetname=0, header=1)\n",
    "data = pd.read_json(fname, orient='columns')"
   ]
  },
  {
   "cell_type": "code",
   "execution_count": null,
   "metadata": {
    "collapsed": true
   },
   "outputs": [],
   "source": [
    "# huge dataset\n",
    "fname = '../Python code/train.csv'\n",
    "chunk_size=10**5\n",
    "reader = pd.read_csv(fname, iterator=True)\n",
    "chunks = []\n",
    "loop = True\n",
    "while loop:\n",
    "    try:\n",
    "        chunk = reader.get_chunk(chunk_size)\n",
    "        chunks.append(chunk)\n",
    "    except StopIteration:\n",
    "        loop = False\n",
    "        print(\"Iteration is stopped\")\n",
    "\n",
    "%time Raw_df = pd.concat(chunks, ignore_index=True)"
   ]
  },
  {
   "cell_type": "code",
   "execution_count": null,
   "metadata": {
    "collapsed": true
   },
   "outputs": [],
   "source": [
    "# sql query\n",
    "import pandas as pd\n",
    "from sqlalchemy iport create_engine\n",
    "\n",
    "# Create a connection\n",
    "database_connection = create_engine('sqlite://sample.db')\n",
    "\n",
    "# Load data\n",
    "dataframe = pd.read_sql_query('SELECT * FROM data', database_connection)"
   ]
  },
  {
   "cell_type": "markdown",
   "metadata": {},
   "source": [
    "# <Span style='color:green'>*DataFrame sliceing*</Span>"
   ]
  },
  {
   "cell_type": "markdown",
   "metadata": {},
   "source": [
    "# .loc"
   ]
  },
  {
   "cell_type": "code",
   "execution_count": null,
   "metadata": {
    "collapsed": true
   },
   "outputs": [],
   "source": [
    "# select values\n",
    "dataframe.columns #查詢欄位名稱\n",
    "dataframe.values  #查詢Cell值\n",
    "dataframe.index   #查詢index\n",
    "\n",
    "# Select rows\n",
    "dataframe[1:5]\n",
    "\n",
    "# Select columns\n",
    "dataframe[['Sex','Pclass']]\n",
    "\n",
    "# select rows by conditions\n",
    "dataframe[[dataframe['Sex']!='female']]\n",
    "\n",
    "# select column by .loc\n",
    "dataframe.loc[:,'Sex']\n",
    "dataframe.loc[3:15,'Sex']\n",
    "dataframe.loc[:,'Sex':'Pclass']\n"
   ]
  },
  {
   "cell_type": "markdown",
   "metadata": {},
   "source": [
    "# .iloc"
   ]
  },
  {
   "cell_type": "code",
   "execution_count": null,
   "metadata": {
    "collapsed": true
   },
   "outputs": [],
   "source": [
    "# select row\n",
    "dataframe.iloc[2]\n",
    "\n",
    "# select column\n",
    "dataframe.iloc[:,2]\n",
    "\n",
    "# select specific rows and columns\n",
    "dataframe.iloc[[1,4],[2,5]]\n",
    "\n",
    "# slicing\n",
    "dataframe.iloc[1:4,2:5]\n",
    "\n",
    "# selelct specific cell\n",
    "dataframe.iloc[3,5]"
   ]
  },
  {
   "cell_type": "markdown",
   "metadata": {},
   "source": [
    "# Sort & Rank"
   ]
  },
  {
   "cell_type": "code",
   "execution_count": null,
   "metadata": {
    "collapsed": true
   },
   "outputs": [],
   "source": [
    "dataframe.sort_values(by = 'Sex', axis=0, ascending=False, inplace=False)\n",
    "dataframe.sort_values(by = ['Sex','Pclass'], axis=0, ascending=False)\n",
    "\n",
    "# by index if index=date\n",
    "dataframe.sort_value(by=list(dataframe.index), axis=1, ascending=False)\n"
   ]
  },
  {
   "cell_type": "markdown",
   "metadata": {},
   "source": [
    "# <Span style='color:green'>*Data Wrangling*</Span>"
   ]
  },
  {
   "cell_type": "code",
   "execution_count": null,
   "metadata": {
    "collapsed": true
   },
   "outputs": [],
   "source": [
    "import pandas as pd\n",
    "dataframe = pd.read_csv(fname)\n",
    "\n",
    "# data overview\n",
    "dataframe.head()\n",
    "dataframe.tail()\n",
    "dataframe.describe()\n",
    "dataframe.describe(include=['0'])\n",
    "dataframe.describe(include='all')\n",
    "dataframe.describe(include=['category'])\n",
    "dataframe.shape()\n",
    "dataframe['Sex'].unique() # finding unique values ###Series only\n",
    "dataframe['Sex'].values_counts() # finding counts ###Series only"
   ]
  },
  {
   "cell_type": "code",
   "execution_count": null,
   "metadata": {
    "collapsed": true
   },
   "outputs": [],
   "source": [
    "# data slice\n",
    "dataframe.iloc[1:4] # select rows\n",
    "dataframe.iloc[1:4, 2] #select columns\n",
    "\n",
    "# set index (index could be integer, string as long as they qre unique)\n",
    "dataframe = dataframe.set_index(dataframe['Name'])\n",
    "dataframe.loc['Peter Lin'] #select row\n",
    "\n",
    "# select raows based on onditionals\n",
    "dataframe[dataframe['sex']=='female'].head() #select conditional rows\n",
    "\n",
    "# give name to index\n",
    "dataframe.index.name='item'"
   ]
  },
  {
   "cell_type": "code",
   "execution_count": null,
   "metadata": {
    "collapsed": true
   },
   "outputs": [],
   "source": [
    "# replacing values\n",
    "dataframe['Sex'].replace('Sex','Women')\n",
    "\n",
    "# rename columns (single or multiple at a time)\n",
    "dataframe.rename(columns={'Pclass':'Passenger Class', 'Sex':'Gender'})"
   ]
  },
  {
   "cell_type": "code",
   "execution_count": null,
   "metadata": {
    "collapsed": true
   },
   "outputs": [],
   "source": [
    "# Min/Max/Mean/Count/Sum\n",
    "dataframe['Age'].min()\n",
    "dataframe['Age'].max()\n",
    "dataframe['Age'].mean()\n",
    "dataframe['Age'].count()\n",
    "dataframe['Age'].sum()"
   ]
  },
  {
   "cell_type": "code",
   "execution_count": null,
   "metadata": {
    "collapsed": true
   },
   "outputs": [],
   "source": [
    "# Handling missing values\n",
    "dataframe.dropna()\n",
    "dataframe.fillna(method='ffill') #補前值\n",
    "\n",
    "# missing value sort_values\n",
    "(dataframe.isnull().sum()/len(Raw_df)*100).sort_values(ascending=False)"
   ]
  },
  {
   "cell_type": "code",
   "execution_count": null,
   "metadata": {
    "collapsed": true
   },
   "outputs": [],
   "source": [
    "# deleting columns\n",
    "dataframe.drop('Age', axis=1)\n",
    "dataframe.drop(['Age','Sex'], axis=1)\n",
    "dataframe.drop(dataframe.columns[1], axis=1)\n",
    "\n",
    "# deleting rows\n",
    "dataframe[datafrma['Sex']!='female'].head()\n",
    "\n",
    "# drop duplicate rows\n",
    "datafrmae.drop_duplicates(subset=['Sex']) # delete duplicates along specific columns\n",
    "\n"
   ]
  },
  {
   "cell_type": "code",
   "execution_count": null,
   "metadata": {
    "collapsed": true
   },
   "outputs": [],
   "source": [
    "# Grouping values by rows\n",
    "Datafrmae.groupby('Sex').mean()\n",
    "\n",
    "# Grouping Rows by time\n",
    "dataframe.resample('W').sum()\n"
   ]
  },
  {
   "cell_type": "code",
   "execution_count": null,
   "metadata": {
    "collapsed": true
   },
   "outputs": [],
   "source": [
    "# looping over a column\n",
    "# method_1\n",
    "for name in dataframe['Name'][0:2]:\n",
    "    print(name.upper())\n",
    "    \n",
    "# method_2\n",
    "[name.upper() for name in dataframe['Name'][0:2]]"
   ]
  },
  {
   "cell_type": "markdown",
   "metadata": {
    "slideshow": {
     "slide_type": "slide"
    }
   },
   "source": [
    "## Apply<span style=\"color:red\">*(Series or DataFrame)*</span> Map<span style=\"color:red\">*(Series)*</span>  & Applymap<span style=\"color:red\">*(DataFrame only)*</span> "
   ]
  },
  {
   "cell_type": "code",
   "execution_count": 48,
   "metadata": {
    "slideshow": {
     "slide_type": "slide"
    }
   },
   "outputs": [
    {
     "data": {
      "text/html": [
       "<div>\n",
       "<style>\n",
       "    .dataframe thead tr:only-child th {\n",
       "        text-align: right;\n",
       "    }\n",
       "\n",
       "    .dataframe thead th {\n",
       "        text-align: left;\n",
       "    }\n",
       "\n",
       "    .dataframe tbody tr th {\n",
       "        vertical-align: top;\n",
       "    }\n",
       "</style>\n",
       "<table border=\"1\" class=\"dataframe\">\n",
       "  <thead>\n",
       "    <tr style=\"text-align: right;\">\n",
       "      <th></th>\n",
       "      <th>coverage</th>\n",
       "      <th>reports</th>\n",
       "      <th>year</th>\n",
       "    </tr>\n",
       "  </thead>\n",
       "  <tbody>\n",
       "    <tr>\n",
       "      <th>Cochice</th>\n",
       "      <td>5.000000</td>\n",
       "      <td>2.000000</td>\n",
       "      <td>44.855323</td>\n",
       "    </tr>\n",
       "    <tr>\n",
       "      <th>Pima</th>\n",
       "      <td>9.695360</td>\n",
       "      <td>4.898979</td>\n",
       "      <td>44.855323</td>\n",
       "    </tr>\n",
       "    <tr>\n",
       "      <th>Santa Cruz</th>\n",
       "      <td>7.549834</td>\n",
       "      <td>5.567764</td>\n",
       "      <td>44.866469</td>\n",
       "    </tr>\n",
       "    <tr>\n",
       "      <th>Maricopa</th>\n",
       "      <td>7.874008</td>\n",
       "      <td>1.414214</td>\n",
       "      <td>44.877611</td>\n",
       "    </tr>\n",
       "    <tr>\n",
       "      <th>Yuma</th>\n",
       "      <td>8.366600</td>\n",
       "      <td>1.732051</td>\n",
       "      <td>44.877611</td>\n",
       "    </tr>\n",
       "  </tbody>\n",
       "</table>\n",
       "</div>"
      ],
      "text/plain": [
       "            coverage   reports       year\n",
       "Cochice     5.000000  2.000000  44.855323\n",
       "Pima        9.695360  4.898979  44.855323\n",
       "Santa Cruz  7.549834  5.567764  44.866469\n",
       "Maricopa    7.874008  1.414214  44.877611\n",
       "Yuma        8.366600  1.732051  44.877611"
      ]
     },
     "execution_count": 48,
     "metadata": {},
     "output_type": "execute_result"
    }
   ],
   "source": [
    "data = {'name': ['Jason', 'Molly', 'Tina', 'Jake', 'Amy'], \n",
    "        'year': [2012, 2012, 2013, 2014, 2014], \n",
    "        'reports': [4, 24, 31, 2, 3],\n",
    "        'coverage': [25, 94, 57, 62, 70]}\n",
    "df = pd.DataFrame(data, index = ['Cochice', 'Pima', 'Santa Cruz', 'Maricopa', 'Yuma'])\n",
    "\n",
    "# Create a lambda function\n",
    "capitalizer = lambda x: x.upper()\n",
    "\n",
    "#apply() can apply a function along any axis of the dataframe\n",
    "df['name'].apply(capitalizer)\n",
    "\n",
    "# map() applies an operation over each element of a series\n",
    "df['name'].map(capitalizer)\n",
    "\n",
    "# applymap() applies a function to every single element in the entire dataframe.\n",
    "\n",
    "# Drop the string variable so that applymap() can run\n",
    "df = df.drop('name', axis=1)\n",
    "\n",
    "# Return the square root of every cell in the dataframe\n",
    "df.applymap(np.sqrt)"
   ]
  },
  {
   "cell_type": "code",
   "execution_count": null,
   "metadata": {
    "collapsed": true
   },
   "outputs": [],
   "source": [
    "# concat\n",
    "pd.concat([df1,df2], axis=0)\n",
    "pd.concat([df1,df2], axis=1)\n",
    "\n",
    "#add rows to a dataframe\n",
    "dataframe.append(row, ignore_index=True)"
   ]
  },
  {
   "cell_type": "markdown",
   "metadata": {},
   "source": [
    "## <span style = 'color:red'>*Merging*</span>"
   ]
  },
  {
   "cell_type": "code",
   "execution_count": null,
   "metadata": {
    "collapsed": true
   },
   "outputs": [],
   "source": [
    "# inner join\n",
    "pd.merge(df1,df2, on='employee_id')\n",
    "\n",
    "# outer join\n",
    "pd.merge(df1, df2, on='employee_id', how='outer')\n",
    "pd.merge(df1, df2, on='employee_id', how='left')\n",
    "pd.merge(df1, df2, on='employee_id', how='right')\n",
    "\n",
    "# merge (聯集)\n",
    "pd.merge(df1,df2 ,lef_on='employee_id',right_on='employee_id')\n",
    "\n",
    "# merge on index\n",
    "pd.merge(df1,df2 ,left_index=True,right_index=True)\n"
   ]
  },
  {
   "cell_type": "markdown",
   "metadata": {},
   "source": [
    "# <Span style='color:green'>*Handling Dates and Times*</Span>"
   ]
  },
  {
   "cell_type": "code",
   "execution_count": 19,
   "metadata": {},
   "outputs": [
    {
     "data": {
      "text/plain": [
       "[Timestamp('2005-04-03 23:35:00'),\n",
       " Timestamp('2010-05-23 00:01:00'),\n",
       " Timestamp('2009-09-04 21:09:00')]"
      ]
     },
     "execution_count": 19,
     "metadata": {},
     "output_type": "execute_result"
    }
   ],
   "source": [
    "date_strings = np.array(['03-04-2005 11:35 PM','23-05-2010 12:01 AM','04-09-2009 09:09 PM'])\n",
    "[pd.to_datetime(date, format='%d-%m-%Y %I:%M %p') for date in date_strings]"
   ]
  },
  {
   "cell_type": "code",
   "execution_count": 25,
   "metadata": {},
   "outputs": [
    {
     "data": {
      "text/plain": [
       "Timestamp('2017-05-01 05:00:00+0000', tz='Africa/Abidjan')"
      ]
     },
     "execution_count": 25,
     "metadata": {},
     "output_type": "execute_result"
    }
   ],
   "source": [
    "# Handling tie zones\n",
    "date = pd.Timestamp('2017-05-01 06:00:00')\n",
    "date_in_london=date.tz_localize('Europe/London')\n",
    "# convert time zone\n",
    "date_in_Abidjan = date_in_london.tz_convert('Africa/Abidjan')\n",
    "date_in_Abidjan"
   ]
  },
  {
   "cell_type": "markdown",
   "metadata": {},
   "source": [
    "## <span style = 'color:blue'>set datetime as index</span>"
   ]
  },
  {
   "cell_type": "code",
   "execution_count": 55,
   "metadata": {},
   "outputs": [],
   "source": [
    "# Create datetime example\n",
    "dataframe = pd.DataFrame()\n",
    "dataframe['date'] = pd.date_range('1/1/2001', periods=150, freq='W')\n",
    "# if date is a column instead of index\n",
    "dataframe[dataframe['date']>'2001-01-01 01:00:00'].head()\n",
    "dataframe[dataframe['date']>'2001-01-01 01:00:00'].head()\n",
    "\n",
    "# if date is set as an index\n",
    "dataframe['date'] = dataframe.set_index(dataframe['date'])\n",
    "dataframe.loc['2001-01-01 01:00:00':'2001-01-02 01:00:00'].head()\n",
    "\n",
    "# create Year/Month/Day/Hour/Minute\n",
    "dataframe['date'].dt.year\n",
    "dataframe['date'].dt.month\n",
    "dataframe['date'].dt.day\n",
    "dataframe['date'].dt.hour\n",
    "dataframe['date'].dt.minute\n",
    "\n",
    "# Time difference\n",
    "dataframe=pd.DataFrame()\n",
    "dataframe['Arrived'] = [pd.Timestamp('01-01-2017'), pd.Timestamp('01-04-2017')]\n",
    "dataframe['left'] = [pd.Timestamp('01-01-2017'), pd.Timestamp('01-06-2017')]\n",
    "dataframe['left']-dataframe['Arrived' ]\n"
   ]
  },
  {
   "cell_type": "code",
   "execution_count": null,
   "metadata": {
    "collapsed": true
   },
   "outputs": [],
   "source": []
  }
 ],
 "metadata": {
  "celltoolbar": "Raw Cell Format",
  "kernelspec": {
   "display_name": "Python 3",
   "language": "python",
   "name": "python3"
  },
  "language_info": {
   "codemirror_mode": {
    "name": "ipython",
    "version": 3
   },
   "file_extension": ".py",
   "mimetype": "text/x-python",
   "name": "python",
   "nbconvert_exporter": "python",
   "pygments_lexer": "ipython3",
   "version": "3.6.1"
  }
 },
 "nbformat": 4,
 "nbformat_minor": 2
}
